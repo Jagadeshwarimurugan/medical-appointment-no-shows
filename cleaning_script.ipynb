{
  "nbformat": 4,
  "nbformat_minor": 0,
  "metadata": {
    "colab": {
      "provenance": [],
      "authorship_tag": "ABX9TyOfhYuqKY58FHtaRZpsO9Yn",
      "include_colab_link": true
    },
    "kernelspec": {
      "name": "python3",
      "display_name": "Python 3"
    },
    "language_info": {
      "name": "python"
    }
  },
  "cells": [
    {
      "cell_type": "markdown",
      "metadata": {
        "id": "view-in-github",
        "colab_type": "text"
      },
      "source": [
        "<a href=\"https://colab.research.google.com/github/Jagadeshwarimurugan/medical-appointment-no-shows/blob/main/cleaning_script.ipynb\" target=\"_parent\"><img src=\"https://colab.research.google.com/assets/colab-badge.svg\" alt=\"Open In Colab\"/></a>"
      ]
    },
    {
      "cell_type": "code",
      "execution_count": 1,
      "metadata": {
        "colab": {
          "base_uri": "https://localhost:8080/"
        },
        "id": "9KXX3g_bbMD9",
        "outputId": "5bae1a36-076c-42f8-f6b2-7f034d13a83c"
      },
      "outputs": [
        {
          "output_type": "stream",
          "name": "stdout",
          "text": [
            "✅ Cleaning Completed\n",
            "Rows removed (duplicates): 0\n",
            "Rows removed (invalid ages): 1\n",
            "Missing values in dataset: 0\n",
            "Cleaned dataset saved as 'noshowappointments_cleaned.csv'\n"
          ]
        }
      ],
      "source": [
        "import pandas as pd\n",
        "\n",
        "# Load dataset\n",
        "df = pd.read_csv(\"/content/noshowappointments.csv.zip\")\n",
        "\n",
        "# ================== Data Cleaning ==================\n",
        "\n",
        "# 1. Rename columns (lowercase, underscores)\n",
        "df.columns = df.columns.str.lower().str.replace(\" \", \"_\")\n",
        "\n",
        "# 2. Convert datetime columns\n",
        "df[\"scheduledday\"] = pd.to_datetime(df[\"scheduledday\"])\n",
        "df[\"appointmentday\"] = pd.to_datetime(df[\"appointmentday\"])\n",
        "\n",
        "# 3. Fix spelling mistake in column\n",
        "df = df.rename(columns={\"handcap\": \"handicap\"})\n",
        "\n",
        "# 4. Encode target variable 'no-show' -> 'no_show' (No=0, Yes=1)\n",
        "df[\"no_show\"] = df[\"no-show\"].map({\"No\": 0, \"Yes\": 1})\n",
        "df = df.drop(columns=[\"no-show\"])\n",
        "\n",
        "# 5. Convert PatientId to string (avoid scientific notation issue)\n",
        "df[\"patientid\"] = df[\"patientid\"].astype(\"int64\").astype(\"str\")\n",
        "\n",
        "# 6. Remove duplicate rows\n",
        "before_dupes = df.shape[0]\n",
        "df = df.drop_duplicates()\n",
        "after_dupes = df.shape[0]\n",
        "dupes_removed = before_dupes - after_dupes\n",
        "\n",
        "# 7. Remove invalid ages (Age < 0)\n",
        "invalid_ages = df[df[\"age\"] < 0].shape[0]\n",
        "df = df[df[\"age\"] >= 0]\n",
        "\n",
        "# 8. Check for missing values\n",
        "missing_values = df.isnull().sum().sum()\n",
        "\n",
        "\n",
        "df.to_csv(\"noshowappointments_cleaned.csv\", index=False)\n",
        "\n",
        "print(\"✅ Cleaning Completed\")\n",
        "print(f\"Rows removed (duplicates): {dupes_removed}\")\n",
        "print(f\"Rows removed (invalid ages): {invalid_ages}\")\n",
        "print(f\"Missing values in dataset: {missing_values}\")\n",
        "print(\"Cleaned dataset saved as 'noshowappointments_cleaned.csv'\")\n"
      ]
    }
  ]
}